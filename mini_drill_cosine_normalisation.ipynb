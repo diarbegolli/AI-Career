{
  "nbformat": 4,
  "nbformat_minor": 0,
  "metadata": {
    "colab": {
      "provenance": []
    },
    "kernelspec": {
      "name": "python3",
      "display_name": "Python 3"
    },
    "language_info": {
      "name": "python"
    }
  },
  "cells": [
    {
      "cell_type": "code",
      "execution_count": 5,
      "metadata": {
        "colab": {
          "base_uri": "https://localhost:8080/"
        },
        "id": "CHds5Mdj-PJz",
        "outputId": "6c17d874-aed9-4355-8618-4cf14a5866c3"
      },
      "outputs": [
        {
          "output_type": "stream",
          "name": "stdout",
          "text": [
            "(3, 3)\n",
            "(3, 1)\n",
            "[[4.47213595]\n",
            " [5.91607978]\n",
            " [5.38516481]]\n",
            "(3, 3)\n",
            "[[20 22 22]\n",
            " [22 35 29]\n",
            " [22 29 29]]\n",
            "(3, 3)\n",
            "[[20.         26.45751311 24.08318916]\n",
            " [26.45751311 35.         31.85906464]\n",
            " [24.08318916 31.85906464 29.        ]]\n",
            "(3, 3)\n",
            "[[1.         0.83152184 0.91350028]\n",
            " [0.83152184 1.         0.91025899]\n",
            " [0.91350028 0.91025899 1.        ]]\n"
          ]
        }
      ],
      "source": [
        "import numpy as np\n",
        "\n",
        "u = np.array([[2,0,4],\n",
        "              [5,1,3],\n",
        "               [3,2,4]])\n",
        "print(u.shape)\n",
        "\n",
        "u_norm = np.linalg.norm(u, axis=1, keepdims=True)\n",
        "print(u_norm.shape)\n",
        "print(u_norm)\n",
        "\n",
        "u_dot = u @ u.T\n",
        "print(u_dot.shape)\n",
        "print(u_dot)\n",
        "\n",
        "u_denominator = u_norm @ u_norm.T\n",
        "print(u_denominator.shape)\n",
        "print(u_denominator)\n",
        "\n",
        "epsilon = 1e-8\n",
        "\n",
        "u_cosine = np.divide(u_dot, u_denominator, out = np.zeros_like(u_dot,dtype=float), where=u_denominator != 0)\n",
        "print(u_cosine.shape)\n",
        "print(u_cosine)\n",
        "\n",
        "\n",
        "\n",
        "\n"
      ]
    }
  ]
}