{
  "nbformat": 4,
  "nbformat_minor": 0,
  "metadata": {
    "colab": {
      "provenance": []
    },
    "kernelspec": {
      "name": "python3",
      "display_name": "Python 3"
    },
    "language_info": {
      "name": "python"
    }
  },
  "cells": [
    {
      "cell_type": "code",
      "execution_count": 3,
      "metadata": {
        "colab": {
          "base_uri": "https://localhost:8080/"
        },
        "id": "gw_bPPsrRFT4",
        "outputId": "97f26825-00fa-4af0-d563-2bbeda8d5ee9"
      },
      "outputs": [
        {
          "output_type": "stream",
          "name": "stdout",
          "text": [
            "8\n"
          ]
        }
      ],
      "source": [
        "a=5\n",
        "b=3\n",
        "c=a+b\n",
        "print(c)\n"
      ]
    },
    {
      "cell_type": "code",
      "source": [
        "from re import X\n",
        "print(\"Hello World\".upper())\n",
        "print(\"Hello World\".lower())\n",
        "print(\"Hello World\".title())\n",
        "message1 = \"im learning\"\n",
        "message2 = \"Python\"\n",
        "print(message1 + \" \" + message2)\n",
        "#Lists\n",
        "countries = [\"US\", \"CA\", \"KS\", \"AL\"]\n",
        "print(countries[2])\n",
        "#Slicing\n",
        "print(countries[0:3])\n",
        "#adding items to the list\n",
        "countries.append(\"UK\")\n",
        "print(countries)\n",
        "#inserting to a specific position\n",
        "countries.insert(0, \"UAE\")\n",
        "print(countries)\n",
        "\n",
        "countries_2 = [\"GER\", \"FR\"]\n",
        "\n",
        "#join lists\n",
        "all_countries = countries + countries_2\n",
        "print(all_countries)\n",
        "\n",
        "#remove an element\n",
        "\n",
        "del all_countries[2]\n",
        "print(all_countries)\n",
        "\n",
        "#sorting lists\n",
        "\n",
        "numbers = [3,2,4,6]\n",
        "numbers.sort()\n",
        "print(numbers)\n",
        "numbers.sort(reverse=True)\n",
        "print(numbers)\n",
        "\n",
        "#update an element\n",
        "\n",
        "numbers [0] = 100\n",
        "print(numbers)\n",
        "\n",
        "#Dictionary\n",
        "my_Dict = {'name' : 'Diar', 'age' : 24}\n",
        "print(my_Dict)\n",
        "print(my_Dict.keys())\n",
        "print(my_Dict.values())\n",
        "print(my_Dict.items())\n",
        "my_Dict ['Height'] = 1.85\n",
        "print(my_Dict)\n",
        "my_Dict.update({'Height' : 1.87})\n",
        "print(my_Dict)\n",
        "\n",
        "#Copy a dictionary\n",
        "\n",
        "new_Dict = my_Dict.copy()\n",
        "print(new_Dict)\n",
        "\n",
        "#Delete data from dictionary\n",
        "\n",
        "del my_Dict['age']\n",
        "print(my_Dict)\n",
        "\n",
        "\n",
        "#IF Statement\n",
        "\n",
        "age = 14\n",
        "\n",
        "if age>=18:\n",
        "  print(\"you can drink\")\n",
        "elif age>13:\n",
        "  print(\"not yet\")\n",
        "else:\n",
        "  print(\"you cant drink\")\n",
        "\n",
        "#FOR Loop\n",
        "for i, country in enumerate(countries):\n",
        "  print(i)\n",
        "  print(country)\n",
        "\n",
        "for key, value in my_Dict.items():\n",
        "  print(key)\n",
        "  print(value)\n",
        "\n",
        "\n",
        "#FUNCTIONS\n",
        "\n",
        "def sum_values (a,b):\n",
        "  x = a + b\n",
        "  return x\n",
        "\n",
        "sum_values(5 , 6)"
      ],
      "metadata": {
        "colab": {
          "base_uri": "https://localhost:8080/"
        },
        "id": "Lt5p6Tb_Sroh",
        "outputId": "e6819caa-8704-47d3-d5c6-d110f0cb29fe"
      },
      "execution_count": 36,
      "outputs": [
        {
          "output_type": "stream",
          "name": "stdout",
          "text": [
            "HELLO WORLD\n",
            "hello world\n",
            "Hello World\n",
            "im learning Python\n",
            "KS\n",
            "['US', 'CA', 'KS']\n",
            "['US', 'CA', 'KS', 'AL', 'UK']\n",
            "['UAE', 'US', 'CA', 'KS', 'AL', 'UK']\n",
            "['UAE', 'US', 'CA', 'KS', 'AL', 'UK', 'GER', 'FR']\n",
            "['UAE', 'US', 'KS', 'AL', 'UK', 'GER', 'FR']\n",
            "[2, 3, 4, 6]\n",
            "[6, 4, 3, 2]\n",
            "[100, 4, 3, 2]\n",
            "{'name': 'Diar', 'age': 24}\n",
            "dict_keys(['name', 'age'])\n",
            "dict_values(['Diar', 24])\n",
            "dict_items([('name', 'Diar'), ('age', 24)])\n",
            "{'name': 'Diar', 'age': 24, 'Height': 1.85}\n",
            "{'name': 'Diar', 'age': 24, 'Height': 1.87}\n",
            "{'name': 'Diar', 'age': 24, 'Height': 1.87}\n",
            "{'name': 'Diar', 'Height': 1.87}\n",
            "not yet\n",
            "0\n",
            "UAE\n",
            "1\n",
            "US\n",
            "2\n",
            "CA\n",
            "3\n",
            "KS\n",
            "4\n",
            "AL\n",
            "5\n",
            "UK\n",
            "name\n",
            "Diar\n",
            "Height\n",
            "1.87\n"
          ]
        },
        {
          "output_type": "execute_result",
          "data": {
            "text/plain": [
              "11"
            ]
          },
          "metadata": {},
          "execution_count": 36
        }
      ]
    }
  ]
}