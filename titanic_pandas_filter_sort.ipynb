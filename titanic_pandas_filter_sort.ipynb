{
  "nbformat": 4,
  "nbformat_minor": 0,
  "metadata": {
    "colab": {
      "provenance": []
    },
    "kernelspec": {
      "name": "python3",
      "display_name": "Python 3"
    },
    "language_info": {
      "name": "python"
    }
  },
  "cells": [
    {
      "cell_type": "code",
      "execution_count": 22,
      "metadata": {
        "colab": {
          "base_uri": "https://localhost:8080/"
        },
        "id": "X4gLfTobRtU3",
        "outputId": "dd461f2c-57d4-4008-b839-e4936c3599d9"
      },
      "outputs": [
        {
          "output_type": "stream",
          "name": "stdout",
          "text": [
            "       sex    age   class      fare  survived                tag\n",
            "0   female  35.00   First  512.3292         1  female_first_top5\n",
            "1   female  23.00   First  263.0000         1  female_first_top5\n",
            "2   female  24.00   First  263.0000         1  female_first_top5\n",
            "3   female  18.00   First  262.3750         1  female_first_top5\n",
            "4   female  21.00   First  262.3750         1  female_first_top5\n",
            "5     male  32.00   Third   56.4958         1    male_third_top5\n",
            "6     male  28.00   Third   56.4958         0    male_third_top5\n",
            "7     male  26.00   Third   56.4958         1    male_third_top5\n",
            "8     male  32.00   Third   56.4958         1    male_third_top5\n",
            "9     male  11.00   Third   46.9000         0    male_third_top5\n",
            "10  female   2.00   First  151.5500         0      children_top5\n",
            "11    male   0.92   First  151.5500         1      children_top5\n",
            "12    male  11.00   First  120.0000         1      children_top5\n",
            "13    male   4.00   First   81.8583         1      children_top5\n",
            "14  female   3.00  Second   41.5792         1      children_top5\n"
          ]
        }
      ],
      "source": [
        "import pandas as pd\n",
        "import seaborn as sns\n",
        "\n",
        "df = sns.load_dataset(\"titanic\").copy()\n",
        "\n",
        "df = df.dropna(subset=[\"age\"])\n",
        "\n",
        "df.head()\n",
        "\n",
        "\n",
        "mask_high_fare = df[\"fare\"] > 50\n",
        "\n",
        "high_fare = (df.loc[mask_high_fare,[\"sex\",\"age\",\"class\",\"fare\",\"survived\"]]\n",
        "                                    .sort_values(\"fare\", ascending=False)\n",
        "                                    .reset_index(drop=True))\n",
        "\n",
        "high_fare.head()\n",
        "\n",
        "mask_female_first = (df[\"sex\"] == \"female\") & (df[\"class\"] == \"First\")\n",
        "mask_male_third = (df[\"sex\"] == \"male\") & (df[\"class\"] == \"Third\")\n",
        "\n",
        "female_first = (df.loc[mask_female_first,[\"sex\",\"age\",\"class\",\"fare\",\"survived\"]]\n",
        "                                    .sort_values(\"fare\", ascending=False)\n",
        "                                    .head(5)\n",
        "                                    .reset_index(drop=True))\n",
        "\n",
        "male_third = (df.loc[mask_male_third,[\"sex\",\"age\",\"class\",\"fare\",\"survived\"]]\n",
        "                                    .sort_values(\"fare\", ascending=False)\n",
        "                                    .head(5)\n",
        "                                    .reset_index(drop=True))\n",
        "\n",
        "male_third.head()\n",
        "female_first.head()\n",
        "\n",
        "children = df.loc[df[\"age\"] < 12, [\"sex\",\"age\",\"class\",\"fare\",\"survived\"]]\n",
        "children_sorted = children.sort_values([\"class\",\"fare\"], ascending=[True,False]).reset_index(drop=True)\n",
        "children_sorted.head(10)\n",
        "\n",
        "mask_vip_or_kid = (df[\"fare\"]>100) | (df[\"age\"]<10)\n",
        "\n",
        "vip_or_kid = (df.loc[mask_vip_or_kid, [\"sex\",\"age\",\"class\",\"fare\",\"survived\"]]\n",
        "              .sort_values(\"fare\", ascending=False)\n",
        "              .reset_index(drop=True))\n",
        "\n",
        "vip_or_kid.head(10)\n",
        "\n",
        "out = pd.concat([\n",
        "    female_first.assign(tag=\"female_first_top5\"),\n",
        "    male_third.assign(tag=\"male_third_top5\"),\n",
        "    children_sorted.head(5).assign(tag=\"children_top5\")\n",
        "], ignore_index=True)\n",
        "\n",
        "print(out.head(15))\n",
        "out.to_csv(\"titanic_day2_filters.csv\", index=False)\n",
        "\n",
        "out.to_csv(\"titanic_day2_filters_tagged.csv\", index=False)\n",
        "\n",
        "\n",
        "\n",
        "\n",
        "\n",
        "\n",
        "\n",
        "\n",
        "\n"
      ]
    }
  ]
}