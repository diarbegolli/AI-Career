{
  "nbformat": 4,
  "nbformat_minor": 0,
  "metadata": {
    "colab": {
      "provenance": []
    },
    "kernelspec": {
      "name": "python3",
      "display_name": "Python 3"
    },
    "language_info": {
      "name": "python"
    }
  },
  "cells": [
    {
      "cell_type": "code",
      "execution_count": 1,
      "metadata": {
        "colab": {
          "base_uri": "https://localhost:8080/"
        },
        "id": "4KdrW0JFlhiF",
        "outputId": "bc947908-b2e4-4b3e-e1ab-c546e9b4ad4d"
      },
      "outputs": [
        {
          "output_type": "stream",
          "name": "stdout",
          "text": [
            "Original array:\n",
            " [[91 67 59 83]\n",
            " [48 75 82 69]\n",
            " [61 89 11 48]\n",
            " [49 20 42 20]\n",
            " [78 84 17 35]\n",
            " [93 78 13 75]]\n",
            "\n",
            "Column means:\n",
            " [70.         68.83333333 37.33333333 55.        ]\n",
            "\n",
            "Centered array (mean subtracted):\n",
            " [[ 21.          -1.83333333  21.66666667  28.        ]\n",
            " [-22.           6.16666667  44.66666667  14.        ]\n",
            " [ -9.          20.16666667 -26.33333333  -7.        ]\n",
            " [-21.         -48.83333333   4.66666667 -35.        ]\n",
            " [  8.          15.16666667 -20.33333333 -20.        ]\n",
            " [ 23.           9.16666667 -24.33333333  20.        ]]\n",
            "\n",
            "Column std devs:\n",
            " [18.43908891 22.90135852 26.41127705 22.56102835]\n",
            "\n",
            "Normalized array (z-scores):\n",
            " [[ 1.1388849  -0.08005348  0.82035665  1.24107818]\n",
            " [-1.19311752  0.26927078  1.69119678  0.62053909]\n",
            " [-0.48809353  0.88058823 -0.99704885 -0.31026955]\n",
            " [-1.1388849  -2.13233347  0.1766922  -1.55134773]\n",
            " [ 0.43386092  0.66226057 -0.76987316 -0.88648441]\n",
            " [ 1.24735013  0.40026738 -0.92132362  0.88648441]]\n",
            "\n",
            "Mask (True if col0 > col1):\n",
            " [ True False False  True False  True]\n",
            "\n",
            "Filtered rows (col0 > col1):\n",
            " [[91 67 59 83]\n",
            " [49 20 42 20]\n",
            " [93 78 13 75]]\n",
            "\n",
            "Means after normalization (should be ~0):\n",
            " [ 0.00000000e+00  1.94289029e-16 -1.29526020e-16  0.00000000e+00]\n",
            "Stds after normalization (should be ~1):\n",
            " [1. 1. 1. 1.]\n"
          ]
        }
      ],
      "source": [
        "\"\"\"\n",
        "NumPy Day 3 – Array Normalization & Filtering\n",
        "Author: Diar Begolli\n",
        "Description:\n",
        "    - Generate a random (6x4) matrix of integers\n",
        "    - Center and normalize each column\n",
        "    - Apply a boolean mask to filter rows\n",
        "\"\"\"\n",
        "\n",
        "import numpy as np\n",
        "\n",
        "# Step 1: Create a (6x4) matrix with random integers between 10–100\n",
        "arr1 = np.random.randint(10, 100, size=(6, 4))\n",
        "print(\"Original array:\\n\", arr1)\n",
        "\n",
        "# Step 2: Compute column means (axis=0 = column-wise)\n",
        "arr1_mean = arr1.mean(axis=0)\n",
        "print(\"\\nColumn means:\\n\", arr1_mean)\n",
        "\n",
        "# Step 3: Center the array by subtracting column means\n",
        "arr1_centered = arr1 - arr1_mean\n",
        "print(\"\\nCentered array (mean subtracted):\\n\", arr1_centered)\n",
        "\n",
        "# Step 4: Compute column standard deviations\n",
        "arr1_std = arr1.std(axis=0)\n",
        "print(\"\\nColumn std devs:\\n\", arr1_std)\n",
        "\n",
        "# Step 5: Normalize each column → (x - mean) / std\n",
        "# This is z-score normalization\n",
        "arr1_normalised = (arr1 - arr1_mean) / arr1_std\n",
        "print(\"\\nNormalized array (z-scores):\\n\", arr1_normalised)\n",
        "\n",
        "# Step 6: Apply a boolean mask → select rows where col0 > col1\n",
        "arr1_mask = arr1[:, 0] > arr1[:, 1]\n",
        "print(\"\\nMask (True if col0 > col1):\\n\", arr1_mask)\n",
        "print(\"\\nFiltered rows (col0 > col1):\\n\", arr1[arr1_mask])\n",
        "\n",
        "# Step 7 (optional): Quick validation → check normalization worked\n",
        "print(\"\\nMeans after normalization (should be ~0):\\n\", arr1_normalised.mean(axis=0))\n",
        "print(\"Stds after normalization (should be ~1):\\n\", arr1_normalised.std(axis=0))\n"
      ]
    }
  ]
}