{
  "nbformat": 4,
  "nbformat_minor": 0,
  "metadata": {
    "colab": {
      "provenance": []
    },
    "kernelspec": {
      "name": "python3",
      "display_name": "Python 3"
    },
    "language_info": {
      "name": "python"
    }
  },
  "cells": [
    {
      "cell_type": "code",
      "execution_count": null,
      "metadata": {
        "colab": {
          "base_uri": "https://localhost:8080/"
        },
        "id": "s8EBqfl7LkP2",
        "outputId": "1cd211ed-a882-475c-8c95-e304fae8d692"
      },
      "outputs": [
        {
          "output_type": "stream",
          "name": "stdout",
          "text": [
            "\n",
            "📊 Previous scores:\n",
            "1. 2\n",
            "2. 3\n",
            "Which is Canada's most populated city?\n"
          ]
        }
      ],
      "source": [
        "def run_quiz():\n",
        "    points = 0\n",
        "    quiz = {\n",
        "        \"Which is Canada's most populated city?\": \"Toronto\",\n",
        "        \"How many people live in Istanbul?\": \"20 Million\",\n",
        "        \"Best programming language in the world?\": \"Python\",\n",
        "        \"Which planet is known as the Red Planet?\": \"Mars\",\n",
        "        \"Who wrote 'Romeo and Juliet'?\": \"Shakespeare\"\n",
        "    }\n",
        "\n",
        "    for question in quiz:\n",
        "        print(question)\n",
        "        user_answer = input()\n",
        "\n",
        "        while user_answer.strip() == '':\n",
        "            print(\"Please enter an answer!\")\n",
        "            user_answer = input()\n",
        "\n",
        "        if user_answer.strip().lower() == quiz[question].lower():\n",
        "            print(\"Correct!\\n\")\n",
        "            points += 1\n",
        "        else:\n",
        "            print(f\"Wrong! The correct answer is: {quiz[question]}\\n\")\n",
        "\n",
        "    total = len(quiz)\n",
        "    percent = (points / total) * 100\n",
        "    print(f\"✅ Your final score is {points} out of {total} ({percent:.1f}%)\\n\")\n",
        "\n",
        "    save_score(points)\n",
        "    return points\n",
        "\n",
        "\n",
        "def save_score(score):\n",
        "    with open('quiz_scores.txt', 'a') as file:\n",
        "        file.write(f\"{score}\\n\")\n",
        "\n",
        "\n",
        "def show_scores():\n",
        "    print(\"\\n📊 Previous scores:\")\n",
        "    try:\n",
        "        with open('quiz_scores.txt', 'r') as file:\n",
        "            scores = file.readlines()\n",
        "            if not scores:\n",
        "                print(\"No scores recorded yet.\")\n",
        "            else:\n",
        "                for i, score in enumerate(scores, 1):\n",
        "                    print(f\"{i}. {score.strip()}\")\n",
        "    except FileNotFoundError:\n",
        "        print(\"No previous scores found.\")\n",
        "\n",
        "\n",
        "if __name__ == '__main__':\n",
        "    show_scores()  # Show score history before starting quiz\n",
        "\n",
        "    play_again = 'yes'\n",
        "    while play_again.lower() == 'yes':\n",
        "        run_quiz()\n",
        "        play_again = input(\"Do you want to play again? (yes/no): \")\n",
        "\n",
        "    print(\"Thanks for playing! Goodbye.\")\n"
      ]
    },
    {
      "cell_type": "code",
      "source": [],
      "metadata": {
        "id": "kVjZYwSeNL3x"
      },
      "execution_count": null,
      "outputs": []
    }
  ]
}