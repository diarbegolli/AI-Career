{
  "nbformat": 4,
  "nbformat_minor": 0,
  "metadata": {
    "colab": {
      "provenance": []
    },
    "kernelspec": {
      "name": "python3",
      "display_name": "Python 3"
    },
    "language_info": {
      "name": "python"
    }
  },
  "cells": [
    {
      "cell_type": "code",
      "execution_count": 2,
      "metadata": {
        "colab": {
          "base_uri": "https://localhost:8080/"
        },
        "id": "DlNLikT7vdEW",
        "outputId": "c3596ecc-32fc-4f33-f477-9bc03ac9aba0"
      },
      "outputs": [
        {
          "output_type": "stream",
          "name": "stdout",
          "text": [
            "Element wise multiplication:  [ 4. 10. 18.]\n",
            "Dot multiplication:  32.0\n",
            "m shape:  (2, 3) n shape:  (3, 1)\n",
            "m @ n:  [[1.4]\n",
            " [3.2]]\n",
            "m.T:  [[1. 4.]\n",
            " [2. 5.]\n",
            " [3. 6.]]\n",
            "||v|| :  5.0\n",
            "r shape:  (5, 6)\n",
            "first 3 row norms:  [[7.14142843]\n",
            " [7.        ]\n",
            " [7.81024968]]\n",
            "denom shape: (5, 5)\n",
            "\n",
            "Cosine similarity (rounded):\n",
            " [[1.    0.74  0.233 0.882 0.276]\n",
            " [0.74  1.    0.329 0.4   0.281]\n",
            " [0.233 0.329 1.    0.251 0.977]\n",
            " [0.882 0.4   0.251 1.    0.345]\n",
            " [0.276 0.281 0.977 0.345 1.   ]]\n",
            "\n",
            "Top similar to user 0: [np.int64(3), np.int64(1), np.int64(4)] scores: [0.882 0.74  0.276]\n"
          ]
        }
      ],
      "source": [
        "import numpy as np\n",
        "\n",
        "a = np.array([1,2,3], dtype = float)\n",
        "\n",
        "b = np.array([4,5,6], dtype = float)\n",
        "\n",
        "print(\"Element wise multiplication: \", a*b) #Multiplies each same-position element of two arrays and gives and array of same length\n",
        "print(\"Dot multiplication: \", a @ b)        #Multiplies each same-position element of two arras and sums them up gives a single value\n",
        "\n",
        "m = np.array([[1,2,3],\n",
        "              [4,5,6]], dtype=float)    #(2,3) - 2 by 3 array [2 rows 3 columns]\n",
        "\n",
        "n = np.array([[0.1],\n",
        "              [0.2],\n",
        "               [0.3]])                  #(3,1) - 3 by 1 array [3 rows 2 colums]\n",
        "\n",
        "print(\"m shape: \", m.shape, \"n shape: \", n.shape)\n",
        "print(\"m @ n: \", m @ n)\n",
        "print(\"m.T: \", m.T)\n",
        "\n",
        "v = np.array([3,4], dtype=float)\n",
        "\n",
        "print(\"||v|| : \", np.linalg.norm(v))    #L2 norm - length of the vector from the origin pythagorian\n",
        "\n",
        "\n",
        "r = np.array([\n",
        "    [5, 4, 0, 3, 0, 1],\n",
        "    [4, 0, 0, 5, 2, 2],\n",
        "    [0, 2, 4, 0, 4, 5],\n",
        "    [5, 5, 1, 0, 0, 0],\n",
        "    [0, 3, 5, 0, 4, 4]\n",
        "], dtype=float)\n",
        "\n",
        "print(\"r shape: \", r.shape)   #(m users,n items) prints the 5 by 6 matrix(5 users 6 items)\n",
        "\n",
        "row_norms = np.linalg.norm(r, axis=1, keepdims=True) # row norms L2(length of each users vector) - keepdims true keeps shape [m,1] not [m,:]\n",
        "\n",
        "print(\"first 3 row norms: \", row_norms[:3])\n",
        "\n",
        "dot_matrix = r @ r.T          # all pairwise dot production (numerator for cosine) - (m,1) @ (1,m) -> (m,m)\n",
        "\n",
        "denom = row_norms @ row_norms.T   #All pairwise norm products (denominator) - (m,1) @ (1,m) -> (m,m)\n",
        "\n",
        "print(\"denom shape:\", denom.shape)\n",
        "\n",
        "eps = 1e-8\n",
        "\n",
        "cos_sim = dot_matrix / (denom + eps)  #Safe cosine similarity: elementwise division - Add epsilon to denom\n",
        "\n",
        "\n",
        "for i in range(cos_sim.shape[0]):\n",
        "    cos_sim[i, i] = 1.0 if row_norms[i,0] > 0 else 0.0    # Optional normalize diagonal to exactly 1 (if row not all zeros)\n",
        "\n",
        "print(\"\\nCosine similarity (rounded):\\n\", np.round(cos_sim, 3))\n",
        "\n",
        "\n",
        "#find top-3 similar users for user 0 (excluding self)\n",
        "\n",
        "user_id = 0\n",
        "scores = cos_sim[user_id]                 # shape (m,)\n",
        "order = np.argsort(-scores)               # descending\n",
        "top_neighbors = [u for u in order if u != user_id][:3]\n",
        "print(f\"\\nTop similar to user {user_id}:\", top_neighbors,\n",
        "      \"scores:\", np.round(scores[top_neighbors], 3))\n"
      ]
    }
  ]
}