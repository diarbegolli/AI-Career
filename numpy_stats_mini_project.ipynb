{
  "nbformat": 4,
  "nbformat_minor": 0,
  "metadata": {
    "colab": {
      "provenance": []
    },
    "kernelspec": {
      "name": "python3",
      "display_name": "Python 3"
    },
    "language_info": {
      "name": "python"
    }
  },
  "cells": [
    {
      "cell_type": "code",
      "execution_count": 18,
      "metadata": {
        "colab": {
          "base_uri": "https://localhost:8080/"
        },
        "id": "TPV7yd7pK8ds",
        "outputId": "c6875001-9f75-4d22-b595-8bfb7259da3e"
      },
      "outputs": [
        {
          "output_type": "stream",
          "name": "stdout",
          "text": [
            "score shape:  (20, 3)\n",
            "[[88 78 64]\n",
            " [92 57 70]\n",
            " [88 68 72]\n",
            " [60 60 73]\n",
            " [85 89 73]]\n",
            "Per subject means:  {'Math': np.float64(78.6), 'Science': np.float64(73.2), 'English': np.float64(72.15)}\n",
            "Per subject variance:  {'Math': np.float64(157.54), 'Science': np.float64(293.36), 'English': np.float64(189.73)}\n",
            "Per subject standard deviation:  {'Math': np.float64(12.55), 'Science': np.float64(17.13), 'English': np.float64(13.77)}\n",
            "Covariance matrix:\n",
            " [[ 165.83   17.4    16.48]\n",
            " [  17.4   308.8  -106.82]\n",
            " [  16.48 -106.82  199.71]]\n",
            "Correlation matrix:\n",
            " [[ 1.    0.08  0.09]\n",
            " [ 0.08  1.   -0.43]\n",
            " [ 0.09 -0.43  1.  ]]\n",
            "Strongest pair: Math & English with correlation = 0.09057976614033476\n",
            "z:  [[ 0.74891483  0.28024688 -0.5916876 ]\n",
            " [ 1.067602   -0.94583323 -0.15608937]\n",
            " [ 0.74891483 -0.30360079 -0.01088996]\n",
            " [-1.48189531 -0.77067892  0.06170975]\n",
            " [ 0.50989946  0.92247932  0.06170975]\n",
            " [-2.11926964 -0.12844649 -1.53548377]\n",
            " [-0.44616203  1.15601839  0.49730798]\n",
            " [ 0.66924304 -1.29614183 -0.15608937]\n",
            " [ 0.27088409 -0.71229416 -0.08348966]\n",
            " [ 1.14727379  0.04670781  1.87670238]\n",
            " [-0.20714666  1.03924885  0.35210857]\n",
            " [-1.08353636 -0.53713986  1.73150297]\n",
            " [ 1.70497632  1.15601839 -1.46288406]\n",
            " [ 0.58957125  1.56471176 -1.17248524]\n",
            " [-0.6851774  -0.88744846  1.15070533]\n",
            " [-0.92419277 -1.17937229  0.13430945]\n",
            " [-1.24287994  1.50632699 -1.02728583]\n",
            " [-0.28681845 -1.29614183 -0.22868907]\n",
            " [-0.12747487  1.33117269 -1.17248524]\n",
            " [ 1.14727379 -0.94583323  1.73150297]]\n",
            "z corr [[ 1.          0.07689126  0.09057977]\n",
            " [ 0.07689126  1.         -0.43014499]\n",
            " [ 0.09057977 -0.43014499  1.        ]]\n"
          ]
        }
      ],
      "source": [
        "import numpy as np\n",
        "\n",
        "np.random.seed(42)\n",
        "\n",
        "SUBJECTS = [\"Math\",\"Science\",\"English\"]         #Create the subject list manually\n",
        "\n",
        "scores = np.random.randint(50,101,size=(20,3))  #Create a random matrix consisting of 20 students(rows) 3 subjects(columns) grades range 50-100\n",
        "\n",
        "print(\"score shape: \", scores.shape)            #print scores matrix shape\n",
        "\n",
        "print(scores[:5])                               #print first 5 students grades\n",
        "\n",
        "subject_mean = scores.mean(axis=0)\n",
        "\n",
        "subject_variance = scores.var(axis=0)\n",
        "\n",
        "subject_stdev = scores.std(axis=0)\n",
        "\n",
        "print(\"Per subject means: \", dict(zip(SUBJECTS, np.round(subject_mean, 2))))\n",
        "\n",
        "print(\"Per subject variance: \", dict(zip(SUBJECTS,np.round(subject_variance,2))))\n",
        "\n",
        "print(\"Per subject standard deviation: \", dict(zip(SUBJECTS,np.round(subject_stdev,2))))\n",
        "\n",
        "scores_cov = np.cov(scores, rowvar=False)\n",
        "\n",
        "print(\"Covariance matrix:\\n\", np.round(scores_cov, 2))\n",
        "\n",
        "scores_corr = np.corrcoef(scores,rowvar=False)\n",
        "\n",
        "print(\"Correlation matrix:\\n\", np.round(scores_corr, 2))\n",
        "\n",
        "\n",
        "corr_c = scores_corr.copy()\n",
        "\n",
        "np.fill_diagonal(corr_c, -1)\n",
        "\n",
        "best_match = np.unravel_index(np.argmax(corr_c),corr_c.shape)\n",
        "\n",
        "i, j = best_match\n",
        "\n",
        "print(\"Strongest pair:\", SUBJECTS[i], \"&\", SUBJECTS[j],\n",
        "      \"with correlation =\", scores_corr[i, j])\n",
        "\n",
        "z = (scores - subject_mean)/ subject_stdev\n",
        "\n",
        "z_corr = np.corrcoef(z, rowvar=False)\n",
        "\n",
        "print(\"z: \", z)\n",
        "print(\"z corr\", z_corr)\n",
        "\n"
      ]
    },
    {
      "cell_type": "code",
      "source": [],
      "metadata": {
        "id": "K4C5hAWAUSC-"
      },
      "execution_count": 18,
      "outputs": []
    }
  ]
}